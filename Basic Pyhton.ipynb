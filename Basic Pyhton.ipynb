{
 "cells": [
  {
   "cell_type": "markdown",
   "id": "7191639bf949b76b",
   "metadata": {},
   "source": [
    "Write a Python program that checks whether a given number is prime or not. A prime number is a natural number greater than 1 that has no positive divisors other than 1 and itself."
   ]
  },
  {
   "cell_type": "code",
   "execution_count": 1,
   "id": "1bdd516496e46ef3",
   "metadata": {
    "jupyter": {
     "is_executing": true
    }
   },
   "outputs": [
    {
     "name": "stdout",
     "output_type": "stream",
     "text": [
      "89 is a prime number.\n"
     ]
    }
   ],
   "source": [
    "## asked user to enter a number\n",
    "num = int(input(\"Enter a number: \"))\n",
    "## define a function for a prime number\n",
    "def prime():\n",
    "    if num <= 1:\n",
    "        return False\n",
    "    elif num == 2:\n",
    "        return True\n",
    "    elif num % 2 == 0:\n",
    "        return False\n",
    "## we eliminate all even number except 2 as a prime number because all even number except 2 are not prime numbers.\n",
    "##Then we will check for the rest of number.\n",
    "    for i in range(3,num,2):\n",
    "        if num % i == 0:\n",
    "            return False\n",
    "    return True\n",
    "## we used the prime function in a if else cond statement for the output.\n",
    "if prime():\n",
    "        print(f\"{num} is a prime number.\")\n",
    "else:\n",
    "        print(f\"{num} is not a prime number.\")\n",
    "\n"
   ]
  },
  {
   "cell_type": "markdown",
   "id": "f37f4fc689aae392",
   "metadata": {},
   "source": [
    "Develop a Python program that generates two random numbers and asks the user to enter the product of these numbers. The program should then check if the user's answer is correct and display an appropriate message."
   ]
  },
  {
   "cell_type": "code",
   "execution_count": 2,
   "id": "53ae9d5a13b4b3cd",
   "metadata": {
    "ExecuteTime": {
     "end_time": "2025-05-16T12:46:21.352073Z",
     "start_time": "2025-05-16T12:46:17.469539Z"
    }
   },
   "outputs": [
    {
     "name": "stdout",
     "output_type": "stream",
     "text": [
      "Sorry, your answer 85565 is incorrect.\n",
      "The correct answer is 564696.\n"
     ]
    }
   ],
   "source": [
    "##import random function for using random.randint() and then generate two random number.\n",
    "import random\n",
    "random1=random.randint(1,1000)\n",
    "random2=random.randint(1,1000)\n",
    "##asked user for the product of two number\n",
    "answer=int(input(f\"enter the product of {random1} and {random2}: \"))\n",
    "right_answer=random1*random2\n",
    "## checking that user have given a correct answer or not using if else and respond accordingly.\n",
    "if right_answer==answer:\n",
    "    print(\"Good, your answer\",answer,'is correct.')\n",
    "else:\n",
    "    print(\"Sorry, your answer\",answer,'is incorrect.')\n",
    "    print(f\"The correct answer is {right_answer}.\")"
   ]
  },
  {
   "cell_type": "markdown",
   "id": "12bdc85ae1470ea1",
   "metadata": {},
   "source": [
    "Create a Python script that prints the squares of all even or odd numbers within the range of 100 to 200. Choose either even or odd numbers and document your choice in the code."
   ]
  },
  {
   "cell_type": "code",
   "execution_count": 52,
   "id": "f779f278cacda102",
   "metadata": {
    "ExecuteTime": {
     "end_time": "2025-05-16T12:46:27.931737Z",
     "start_time": "2025-05-16T12:46:27.924305Z"
    }
   },
   "outputs": [
    {
     "name": "stdout",
     "output_type": "stream",
     "text": [
      "The squares of all even numbers within the range of 100 to 200\n",
      "100^2 = 10000\n",
      "102^2 = 10404\n",
      "104^2 = 10816\n",
      "106^2 = 11236\n",
      "108^2 = 11664\n",
      "110^2 = 12100\n",
      "112^2 = 12544\n",
      "114^2 = 12996\n",
      "116^2 = 13456\n",
      "118^2 = 13924\n",
      "120^2 = 14400\n",
      "122^2 = 14884\n",
      "124^2 = 15376\n",
      "126^2 = 15876\n",
      "128^2 = 16384\n",
      "130^2 = 16900\n",
      "132^2 = 17424\n",
      "134^2 = 17956\n",
      "136^2 = 18496\n",
      "138^2 = 19044\n",
      "140^2 = 19600\n",
      "142^2 = 20164\n",
      "144^2 = 20736\n",
      "146^2 = 21316\n",
      "148^2 = 21904\n",
      "150^2 = 22500\n",
      "152^2 = 23104\n",
      "154^2 = 23716\n",
      "156^2 = 24336\n",
      "158^2 = 24964\n",
      "160^2 = 25600\n",
      "162^2 = 26244\n",
      "164^2 = 26896\n",
      "166^2 = 27556\n",
      "168^2 = 28224\n",
      "170^2 = 28900\n",
      "172^2 = 29584\n",
      "174^2 = 30276\n",
      "176^2 = 30976\n",
      "178^2 = 31684\n",
      "180^2 = 32400\n",
      "182^2 = 33124\n",
      "184^2 = 33856\n",
      "186^2 = 34596\n",
      "188^2 = 35344\n",
      "190^2 = 36100\n",
      "192^2 = 36864\n",
      "194^2 = 37636\n",
      "196^2 = 38416\n",
      "198^2 = 39204\n",
      "200^2 = 40000\n"
     ]
    }
   ],
   "source": [
    "print('The squares of all even numbers within the range of 100 to 200')\n",
    "##using for loop to find the squares all even number within range of 100 to 200.\n",
    "for i in range(100,201,2):\n",
    "        print (f'{i}^2 =',i**2)\n",
    "##using for loop to find the squares of all odd number within range of 100to 200.\n",
    "#for i in range(101,200,2):\n",
    "        #print (f'{i}^2 =',i**2)"
   ]
  },
  {
   "cell_type": "markdown",
   "id": "2b9d2f2b75fdbd9b",
   "metadata": {},
   "source": [
    "write a program to count the number of words in a given text."
   ]
  },
  {
   "cell_type": "code",
   "execution_count": 53,
   "id": "8df066f15a09025d",
   "metadata": {
    "ExecuteTime": {
     "end_time": "2025-05-16T12:47:06.049609Z",
     "start_time": "2025-05-16T12:46:42.958292Z"
    }
   },
   "outputs": [
    {
     "name": "stdout",
     "output_type": "stream",
     "text": [
      "this: 1\n",
      "is: 1\n",
      "a: 3\n",
      "text: 1\n",
      ".: 1\n",
      "simple: 1\n",
      "text.: 1\n"
     ]
    }
   ],
   "source": [
    "#ask user for input some text.\n",
    "input_text = input(\"Write some text here \")\n",
    "#lowercase all words in the given text for better counting purpose.\n",
    "w_lower =input_text.lower()\n",
    "#Split the words in given the text.\n",
    "w_split = w_lower.split()\n",
    "#create a empty dictionary to store words and its counts.\n",
    "w_counts = {}\n",
    "#using a for loop and if else conditional statement add all words and its counts in the empty dictionary.\n",
    "for word in w_split:\n",
    "    if word in w_counts:\n",
    "        w_counts[word] += 1\n",
    "    else:\n",
    "        w_counts[word] = 1\n",
    "#using a for loop show all the words and its counts in the w-counts dictionary.\n",
    "for i,j in w_counts.items():\n",
    "    print(f\"{i}: {j}\")\n"
   ]
  },
  {
   "cell_type": "markdown",
   "id": "3ad640ac6560de59",
   "metadata": {},
   "source": [
    "Write a Python function called is_palindrome that takes a string as input and returns True if the string is a palindrome, and False otherwise. A palindrome is a word, phrase, number, or other sequence of characters that reads the same forward and backward, ignoring spaces, punctuation, and capitalization."
   ]
  },
  {
   "cell_type": "code",
   "execution_count": 54,
   "id": "6727961aa47516a5",
   "metadata": {
    "ExecuteTime": {
     "end_time": "2025-05-16T12:48:10.411699Z",
     "start_time": "2025-05-16T12:47:59.841262Z"
    }
   },
   "outputs": [
    {
     "data": {
      "text/plain": [
       "True"
      ]
     },
     "execution_count": 54,
     "metadata": {},
     "output_type": "execute_result"
    }
   ],
   "source": [
    "def is_palindrome():\n",
    "    str1=input(\"Enter some text to check whether it is a palindrome or not: \")\n",
    "#make it lower by using .lower().\n",
    "    str1=str1.lower()\n",
    "#create a empty string to store the text with out all punctuations.\n",
    "    str2 = \"\"\n",
    "#using .isalnum() and to remove all the space and punctuations and store in the new string str2 respectively.\n",
    "    for char in str1:\n",
    "        if char.isalnum():\n",
    "            str2 += char\n",
    "#[::-1] is used to reverse the string. check its reverse is true or not and return as a boolean.\n",
    "    return str2==str2[::-1]\n",
    "#call the is_palindrome()function\n",
    "is_palindrome()"
   ]
  },
  {
   "cell_type": "code",
   "execution_count": null,
   "id": "eefeae0a4e93e445",
   "metadata": {
    "ExecuteTime": {
     "end_time": "2025-04-26T08:59:53.454735Z",
     "start_time": "2025-04-26T08:59:53.450186Z"
    }
   },
   "outputs": [],
   "source": []
  }
 ],
 "metadata": {
  "kernelspec": {
   "display_name": "Python 3",
   "language": "python",
   "name": "python3"
  },
  "language_info": {
   "codemirror_mode": {
    "name": "ipython",
    "version": 3
   },
   "file_extension": ".py",
   "mimetype": "text/x-python",
   "name": "python",
   "nbconvert_exporter": "python",
   "pygments_lexer": "ipython3",
   "version": "3.13.3"
  }
 },
 "nbformat": 4,
 "nbformat_minor": 5
}
